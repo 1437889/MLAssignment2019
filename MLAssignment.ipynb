{
 "cells": [
  {
   "cell_type": "code",
   "execution_count": 102,
   "metadata": {},
   "outputs": [],
   "source": [
    "import xml.etree.ElementTree as ET\n",
    "from sklearn.model_selection import train_test_split"
   ]
  },
  {
   "cell_type": "code",
   "execution_count": 105,
   "metadata": {},
   "outputs": [],
   "source": [
    "def fileProcessor(F, trainingSize):\n",
    "    x_train = []   #Training Data\n",
    "    x_test = []    #Testing Data \n",
    "    y_train = []   #Training Classifiers\n",
    "    y_test = []    #Testing Classifiers\n",
    "    for file in F:    #F is a vector of file names\n",
    "        x = [] #data\n",
    "        y = [] #classifier\n",
    "        tree = ET.parse(file) #Create XML file tree\n",
    "        root = tree.getroot() #Get root of tree... In our case root is 'feature_vector_file'\n",
    "        for child in root:    #Loop through subelements of root\n",
    "            if child.tag == 'data_set':      #if subelement is 'data_set', perform:\n",
    "                fileID = child.find('data_set_id').text   #'data_set_id' contains the classifer (i.e the composer name)\n",
    "                composerName = fileID.split('/')[-2]      #extract composer name from 'data_set_id'\n",
    "                y.append(composerName)                    #append composer name to classifier vector\n",
    "                FeatureList = []                          #empty array for List of Features, Features have a name and set of values\n",
    "                for feature in child.iter('feature'):  #Loop through 'data_set' subelement for features\n",
    "                    v = []                                #create empty array to contain feature values\n",
    "                    name = feature.find('name').text      #extract name of feature\n",
    "                    vals = feature.findall('v')           #extract values of feature\n",
    "                    for i in vals:                    #loop through extracted values\n",
    "                        v.append(i.text)                  #append text of values to values array\n",
    "                    feat = [name, v]                  #join feature name and values\n",
    "                    FeatureList.append(feat)          #append feature name and values to List of Features\n",
    "                x.append(FeatureList)           #append List of Features for midi file being analysed to the array of data\n",
    "        x_trainC, x_testC, y_trainC, y_testC = train_test_split(x, y,test_size=trainingSize) #split data into training and testing data\n",
    "        #the following is done to ensure that each composer has an equal ratio of music split\n",
    "        #into training and testing data... although the specific songs by each composer are chosen randomly\n",
    "        #each composer has an equal ratio of their music split into testing and training data\n",
    "        x_train = x_train + x_trainC    \n",
    "        x_test = x_test + x_testC\n",
    "        y_train = y_train + y_trainC\n",
    "        y_test = y_test + y_testC\n",
    "    print(y_train)"
   ]
  },
  {
   "cell_type": "code",
   "execution_count": 106,
   "metadata": {},
   "outputs": [
    {
     "name": "stdout",
     "output_type": "stream",
     "text": [
      "['Beethoven', 'Beethoven', 'Beethoven', 'Beethoven', 'Beethoven', 'Beethoven', 'Beethoven', 'Beethoven', 'Beethoven', 'Beethoven', 'Beethoven', 'Beethoven', 'Beethoven', 'Beethoven', 'Beethoven', 'Beethoven', 'Beethoven', 'Beethoven', 'Beethoven', 'Chopin', 'Chopin', 'Chopin', 'Chopin', 'Chopin', 'Chopin', 'Chopin', 'Chopin', 'Chopin', 'Chopin', 'Chopin', 'Chopin', 'Chopin', 'Chopin', 'Chopin', 'Chopin', 'Chopin', 'Chopin', 'Chopin', 'Chopin', 'Chopin', 'Chopin', 'Chopin', 'Chopin', 'Chopin', 'Chopin', 'Chopin', 'Chopin', 'Chopin', 'Chopin', 'Chopin', 'Chopin']\n"
     ]
    }
   ],
   "source": [
    "v = ['beethovenValues.xml', 'chopinValues.xml']\n",
    "fileProcessor(v, 0.33)"
   ]
  },
  {
   "cell_type": "code",
   "execution_count": null,
   "metadata": {},
   "outputs": [],
   "source": []
  }
 ],
 "metadata": {
  "kernelspec": {
   "display_name": "Python 3",
   "language": "python",
   "name": "python3"
  },
  "language_info": {
   "codemirror_mode": {
    "name": "ipython",
    "version": 3
   },
   "file_extension": ".py",
   "mimetype": "text/x-python",
   "name": "python",
   "nbconvert_exporter": "python",
   "pygments_lexer": "ipython3",
   "version": "3.7.1"
  }
 },
 "nbformat": 4,
 "nbformat_minor": 2
}
